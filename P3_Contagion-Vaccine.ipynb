{
 "cells": [
  {
   "cell_type": "markdown",
   "metadata": {},
   "source": [
    "This document is adapted from a lab prepared by Alex Rutherford, with permission"
   ]
  },
  {
   "cell_type": "markdown",
   "metadata": {},
   "source": [
    "link to question 1 github repository: https://github.com/tubbsyal/bee2041_p1_g.git"
   ]
  },
  {
   "cell_type": "code",
   "execution_count": 1106,
   "metadata": {},
   "outputs": [],
   "source": [
    "%matplotlib inline\n",
    "import matplotlib.pyplot as plt\n",
    "import numpy as np\n",
    "import pandas as pd\n",
    "import networkx as nx\n",
    "import random as rd\n",
    "from statistics import mean"
   ]
  },
  {
   "cell_type": "markdown",
   "metadata": {},
   "source": [
    "# The Doctor Strikes Back"
   ]
  },
  {
   "cell_type": "markdown",
   "metadata": {},
   "source": [
    "We are now going to change the behaviour of the agents. We will add a new state where agents are immunised. When an agent recovered they will stay in the `Recovered` state but they can be infected again as if they were in the Susceptible state. We will do this by allowing `Recovered` agents to be infected by their neighbors. An agent that is immunised can never be infected. During the initialisation we will immunise a certain percent of the agents."
   ]
  },
  {
   "cell_type": "code",
   "execution_count": 1107,
   "metadata": {},
   "outputs": [],
   "source": [
    "# simulation parameters\n",
    "\n",
    "\n",
    "\n",
    "\n",
    "nb_agents = 100\n",
    "max_iterations = 10\n"
   ]
  },
  {
   "cell_type": "code",
   "execution_count": 1108,
   "metadata": {},
   "outputs": [],
   "source": [
    "# model parameters\n",
    "\n",
    "## infection\n",
    "\n",
    "probInfection = 0.2\n",
    "probRecovery = 0.2\n",
    "probImmunity= 0.2\n",
    "probInfectionInit = 0.1\n",
    "probImmunityInit = 0.1\n",
    "probInfectionResidual = 0.0\n",
    "\n",
    "randomInitialInfection=True\n",
    "randomInitialVaccination=False "
   ]
  },
  {
   "cell_type": "code",
   "execution_count": 1109,
   "metadata": {},
   "outputs": [],
   "source": [
    "## communication structure\n",
    "\n",
    "\n",
    "# model states\n",
    "\n",
    "systemState = None\n",
    "nextSystemState = None\n",
    "immunityPeriod=3\n",
    "agSusceptible = 0\n",
    "agInfected = 1\n",
    "agRecovered = 2\n",
    "agImmunised= 3"
   ]
  },
  {
   "cell_type": "code",
   "execution_count": 1110,
   "metadata": {},
   "outputs": [],
   "source": [
    "# helper functions\n",
    "def test_state(n,value):\n",
    "    global systemState\n",
    "\n",
    "    return systemState.nodes[n]['state'] == value"
   ]
  },
  {
   "cell_type": "code",
   "execution_count": 1111,
   "metadata": {},
   "outputs": [],
   "source": [
    "# model dynamics\n",
    "\n",
    "def init(network =nx.erdos_renyi_graph, nb_agents =100, netParam=.1, probInfectionInit=0.1, probImmunityInit=0.1, randomInitialVaccination = False, immunityPeriod=3):\n",
    "    global systemState\n",
    "\n",
    "    # generate communication strucure\n",
    "    systemState = nx.grid_2d_graph(10,10)\n",
    "\n",
    "    # init agents' states\n",
    "    if randomInitialInfection:\n",
    "        # random infection\n",
    "        for a in systemState.nodes():\n",
    "            if rd.random() < probInfectionInit:\n",
    "                \n",
    "                systemState.nodes[a]['state'] = agInfected\n",
    "                ##print(\"Oh no, agent\", a, \"got infected!\")\n",
    "            else:\n",
    "                systemState.nodes[a]['state'] = agSusceptible\n",
    "                if rd.random() < probImmunityInit:\n",
    "                    systemState.nodes[a]['state'] = agImmunised\n",
    "                   ## print(\"Agent\", a, \"is immunised. Such a lucky guy!\") \n",
    "               ## else:\n",
    "                   ## print(\"Agent\",a,\"isn't infected\")\n",
    "    else:\n",
    "        # targetted immuniasation\n",
    "        if randomInitialVaccination:\n",
    "            for a in systemState.nodes():\n",
    "                if systemState.nodes[a]['state'] == agInfected:\n",
    "                    print(\" this node is infected\")\n",
    "                elif systemState.nodes[a]['state'] == agSusceptible:\n",
    "                    if rd.random < probImmunityInit:\n",
    "                        systemState.nodes[a]['state'] = agImmunised\n",
    "                    else:\n",
    "                        systemState.nodes[a]['state'] = agSusceptible\n",
    "                        \n",
    "        else:\n",
    "           ## get 10 values from nb_agents not who are infected or immunised \n",
    "           nb_agents_to_immunise = int(probImmunityInit * float(nb_agents))\n",
    "           while( x < nb_agents_to_immunise):\n",
    "               systemState.nodes['agSusceptible']['state'] = agImmunised\n",
    "               x=x+1\n",
    "               \n",
    "               \n",
    "                        \n",
    "\n",
    "        # get the measure (map node > value)\n",
    "        measure = dict(nx.degree(systemState))\n",
    "\n",
    "        # sort the nodes accordingly\n",
    "        measure = sorted(measure.items(), key=lambda x: x[1],reverse=True)\n",
    "        # retains only the nodes (discard the value)\n",
    "        measure = [ x[0] for x in measure ]\n",
    "\n",
    "        # infect the first N nodes with the highest values\n",
    "        nb_agents_to_infect = int(probInfectionInit * float(nb_agents))\n",
    "        ##nb_agents_to_immunise = int(probImmunityInit * float(nb_agents))\n",
    "\n",
    "\n",
    "\n",
    "        for i in range(nb_agents_to_infect):\n",
    "            systemState.nodes[measure[i]]['state']=agInfected\n",
    "        for i in range(nb_agents_to_infect,nb_agents_to_infect+nb_agents_to_immunise):\n",
    "            systemState.nodes[measure[i]]['state']=agImmunised\n",
    "        for i in range(nb_agents_to_infect+nb_agents_to_immunise,nb_agents):\n",
    "            systemState.nodes[measure[i]]['state']=agSusceptible"
   ]
  },
  {
   "cell_type": "code",
   "execution_count": 1112,
   "metadata": {},
   "outputs": [],
   "source": [
    "def step():\n",
    "    global systemState\n",
    "\n",
    "    # copy current network structure and agent s'states\n",
    "    nextSystemState = systemState.copy()\n",
    "\n",
    "    # determine next agents' state\n",
    "    for a in systemState.nodes():\n",
    "        # if infected\n",
    "        if test_state(a,agInfected):\n",
    "            # first try to recover\n",
    "            if rd.random() < probRecovery:\n",
    "                nextSystemState.nodes[a]['state'] = agRecovered\n",
    "               ## print(\"Good news, agent\", a, \"is feeling better!\")\n",
    "            elif rd.random() < probImmunity:\n",
    "                nextSystemState.nodes[a]['state'] = agImmunised\n",
    "               ## print(\"Good news, agent\", a, \"is feeling better and getting Immunised!\")\n",
    "            # if not try to propagage virus\n",
    "            else:\n",
    "                for n in systemState.neighbors(a):\n",
    "                    # if recovered, try to infect (again)\n",
    "                    if test_state(n,agRecovered):\n",
    "                        if rd.random() < probInfection:\n",
    "                            nextSystemState.nodes[n]['state'] = agInfected\t\n",
    "                            ##print(\"Oh no, agent\", n, \"got infected AGAIN!\")\n",
    "                    # otherwise, try to infect\n",
    "                    elif test_state(n,agSusceptible):\n",
    "                        if rd.random() < probInfection:\n",
    "                            nextSystemState.nodes[n]['state'] = agInfected\t\n",
    "                            ##print(\"Oh no, agent\", n, \"got infected!\")\n",
    "        # residual infection\n",
    "        if test_state(a,agSusceptible) or test_state(a,agRecovered):\n",
    "            if rd.random() < probInfectionResidual:\n",
    "                ##if test_state(a,agRecovered):\n",
    "                    ##print(\"Oh no, agent\", a, \"got infected AGAIN!\")\n",
    "                    ##print(\"Oh no, agent\", a, \"got infected!\")\n",
    "                nextSystemState.nodes[a]['state'] = agInfected\n",
    "\n",
    "    # synchronous transition to next state\n",
    "    systemState = nextSystemState"
   ]
  },
  {
   "cell_type": "code",
   "execution_count": 1113,
   "metadata": {},
   "outputs": [],
   "source": [
    "statS = []\n",
    "statI = []\n",
    "statR = []\n",
    "statM = []\n",
    "\n",
    "def collect_statistics():\n",
    "    global systemState\n",
    "\n",
    "    nbS = 0\n",
    "    nbI = 0\n",
    "    nbR = 0\n",
    "    nbM = 0\n",
    "    for a in systemState.nodes():\n",
    "        if test_state(a,agSusceptible):\n",
    "            nbS = nbS + 1\n",
    "        if test_state(a,agInfected):\n",
    "            nbI = nbI + 1\n",
    "        if test_state(a,agRecovered):\n",
    "            nbR = nbR + 1\n",
    "        if test_state(a,agImmunised):\n",
    "            nbM = nbM + 1\n",
    "    statS.append(nbS)\n",
    "    statI.append(nbI)\n",
    "    statR.append(nbR)\n",
    "    statM.append(nbM)\n",
    "    return statS, nbI,"
   ]
  },
  {
   "cell_type": "code",
   "execution_count": 1114,
   "metadata": {},
   "outputs": [],
   "source": [
    "def display_statistics():\n",
    "    plt.plot(statS,label=\"S\", color=\"b\")\n",
    "    plt.plot(statI,label=\"I\", color=\"r\")\n",
    "    plt.plot(statR,label=\"R\", color=\"g\")\n",
    "    plt.plot(statM,label=\"M\", color=\"y\")\n",
    "\n",
    "    plt.legend()\n",
    "    plt.show()"
   ]
  },
  {
   "cell_type": "code",
   "execution_count": 1115,
   "metadata": {},
   "outputs": [],
   "source": [
    "def draw():\n",
    "    global systemState\n",
    "\n",
    "    list_colors = []\n",
    "    for a in systemState.nodes():\n",
    "        if test_state(a,agSusceptible):\n",
    "            list_colors.append(\"b\")\n",
    "        if test_state(a,agInfected):\n",
    "            list_colors.append(\"r\")\n",
    "        if test_state(a,agRecovered):\n",
    "            list_colors.append(\"g\")\n",
    "        if test_state(a,agImmunised):\n",
    "            list_colors.append(\"y\")\n",
    "\n",
    "    nx.draw(systemState, node_color = list_colors)\n",
    "    plt.show()"
   ]
  },
  {
   "cell_type": "code",
   "execution_count": 1116,
   "metadata": {},
   "outputs": [],
   "source": [
    "def func():\n",
    "    \n",
    "    return \n",
    "\n"
   ]
  },
  {
   "cell_type": "code",
   "execution_count": 1117,
   "metadata": {
    "scrolled": true
   },
   "outputs": [],
   "source": [
    "def run_simulation(nb_agents=100,nba = 10, maxIter = 100, probI = 0.2, probR = 0.2, probV = 0.0, probI_init = 0.1, probV_init = 0.1, vRandom = True, immPeriod = 3, network = nx.erdos_renyi_graph, netParam=0.1, rep=12):\n",
    "    df = pd.DataFrame()\n",
    "    print(\"starting simulation\")\n",
    "    excess = False\n",
    "    z = 0  \n",
    "    statli = []\n",
    "    Never_Infectedli = []   \n",
    "    \n",
    "    while z<rep: \n",
    "           \n",
    "         init(network, nb_agents, netParam, probInfectionInit, probImmunityInit, randomInitialVaccination ,immunityPeriod)\n",
    "         #draw()\n",
    "         \n",
    "         li = []\n",
    "         i = 0\n",
    "         while i < max_iterations:\n",
    "              \n",
    "              \n",
    "           ## print(\"== round\", i)\n",
    "              step()\n",
    "        #draw()\n",
    "              nbS, nbI  = collect_statistics()\n",
    "              Never_Infected = ((statS[-1]+statM[-1])/nb_agents)*100\n",
    "             \n",
    "     \n",
    "              li.append(Never_Infected)\n",
    "              \n",
    "             \n",
    "              if nbI == 0:\n",
    "                 i = i + 1\n",
    "                 break\n",
    "              i = i + 1\n",
    "         z=z+1\n",
    "         Never_Infectedli.append(li)\n",
    "         \n",
    "    ##draw()\t\n",
    "         ##display_statistics()\n",
    "     \n",
    "    df   \n",
    "    rep = rep-1\n",
    "    \n",
    "\n",
    "    \n",
    "    return Never_Infectedli\n",
    "\n",
    "##if __name__ == \"__main__\":\n",
    "     ##run_simulation()\n",
    "    ##print(x)1\n",
    "    \n"
   ]
  },
  {
   "cell_type": "code",
   "execution_count": 1118,
   "metadata": {},
   "outputs": [
    {
     "name": "stdout",
     "output_type": "stream",
     "text": [
      "[0.001      0.00187382 0.00351119 0.00657933 0.01232847 0.0231013\n",
      " 0.04328761 0.08111308 0.15199111 0.28480359 0.53366992 1.        ]\n"
     ]
    }
   ],
   "source": [
    "## for part a \n",
    "control_dic = {}\n",
    "timestep3_dic ={}\n",
    "timestep6_dic={}\n",
    "print(np.logspace(-3,0,12))\n",
    "\n"
   ]
  },
  {
   "cell_type": "code",
   "execution_count": 1119,
   "metadata": {},
   "outputs": [
    {
     "name": "stdout",
     "output_type": "stream",
     "text": [
      "starting simulation\n",
      "[[18.8, 18.2, 17.599999999999998, 17.8, 17.2, 17.0, 16.6, 16.400000000000002, 16.6, 17.0], [16.6, 16.6, 16.6, 16.400000000000002, 16.6, 17.2, 17.0, 16.6, 16.8, 17.0], [16.400000000000002, 15.8, 15.2, 15.6, 15.2, 15.2, 15.4, 15.2, 15.0, 15.0], [17.4, 17.599999999999998, 17.4, 17.2, 16.8, 17.0, 16.8, 17.0, 17.0, 17.0], [18.6, 18.4, 18.2, 18.4, 18.2, 18.4, 18.4, 18.4, 18.4], [17.4, 17.4, 16.8, 16.0, 15.8, 15.4, 16.0, 16.2, 16.2, 16.400000000000002], [19.0, 19.2, 18.8, 18.4, 18.2, 18.6, 18.6, 18.6, 18.2, 18.0], [18.0, 18.0, 18.2, 18.4], [17.2, 16.6, 16.6, 17.2, 17.599999999999998, 17.8, 17.8, 17.599999999999998, 17.8, 17.8], [17.0, 17.2, 17.4, 17.599999999999998, 17.4, 16.8, 15.8, 15.8, 15.8, 15.8], [18.0, 17.8, 18.0, 17.8, 18.0, 17.8, 18.0], [17.599999999999998, 17.4, 17.2, 17.0, 16.6, 16.400000000000002, 16.400000000000002, 16.6, 16.6, 17.4]]\n",
      "0     17.320000\n",
      "1     16.740000\n",
      "2     15.400000\n",
      "3     17.120000\n",
      "4     18.377778\n",
      "5     16.360000\n",
      "6     18.560000\n",
      "7     18.150000\n",
      "8     17.400000\n",
      "9     16.660000\n",
      "10    17.914286\n",
      "11    16.920000\n",
      "dtype: float64\n",
      "[18.56, 18.37777777777778, 18.15, 17.914285714285715, 17.4, 17.32, 17.119999999999997, 16.92, 16.740000000000002, 16.660000000000004, 16.36, 15.4]\n"
     ]
    }
   ],
   "source": [
    "## for control \n",
    "q=run_simulation(network=nx.erdos_renyi_graph,nb_agents=500,probV_init = 0)\n",
    "print(q)\n",
    "df = pd.DataFrame(q)\n",
    "df\n",
    "av = df.mean(axis =1)\n",
    "av.sort_values()\n",
    "print(av)\n",
    "av = av.to_dict()\n",
    "\n",
    "x1= list(av.values())\n",
    "x1.sort(reverse=True)\n",
    "print(x1)\n"
   ]
  },
  {
   "cell_type": "code",
   "execution_count": 1120,
   "metadata": {},
   "outputs": [
    {
     "name": "stdout",
     "output_type": "stream",
     "text": [
      "starting simulation\n",
      "[[17.8, 17.8, 17.0, 16.8, 17.4, 17.4, 17.2, 17.599999999999998, 17.8, 17.8], [17.599999999999998, 17.0, 16.6, 16.2, 16.2, 15.8, 16.0, 16.0, 16.2, 16.0], [17.2, 16.400000000000002, 17.2, 17.0, 17.2, 16.8, 16.2, 16.0, 15.8, 16.0], [18.2, 17.8, 17.4, 17.2, 17.2, 17.0, 17.0, 17.0, 17.0, 17.0], [16.400000000000002, 16.0, 16.0, 16.6, 16.8, 16.6, 16.6, 16.8, 17.0], [17.8, 17.599999999999998, 17.0, 16.8, 17.4, 17.599999999999998, 17.8, 17.599999999999998, 17.8], [17.4, 16.0, 16.2, 15.4, 14.799999999999999, 15.0, 15.4, 15.6, 15.8, 15.8], [17.8, 18.2, 18.6, 18.0, 18.0, 18.0, 18.0, 18.2, 18.2, 18.6], [16.2, 15.4, 15.6, 15.0, 15.2, 15.2, 14.799999999999999, 14.6, 14.399999999999999, 14.6], [18.4, 18.6, 18.8, 18.8, 18.8, 18.8], [17.4, 17.0, 16.8, 16.400000000000002, 16.6, 16.8, 16.6, 16.8, 17.0], [17.4, 17.0, 17.2, 17.2, 17.0, 16.6, 17.2, 17.2, 17.4, 17.2]]\n",
      "0     17.460000\n",
      "1     16.360000\n",
      "2     16.580000\n",
      "3     17.280000\n",
      "4     16.533333\n",
      "5     17.488889\n",
      "6     15.740000\n",
      "7     18.160000\n",
      "8     15.100000\n",
      "9     18.700000\n",
      "10    16.822222\n",
      "11    17.140000\n",
      "dtype: float64\n",
      "[18.7, 18.159999999999997, 17.48888888888889, 17.460000000000004, 17.28, 17.14, 16.822222222222226, 16.580000000000002, 16.533333333333335, 16.359999999999996, 15.74, 15.1]\n"
     ]
    }
   ],
   "source": [
    "## for 3-timestep, 40% immunity\n",
    "x2=run_simulation(network=nx.erdos_renyi_graph,nb_agents=500,probV_init = 0.4)\n",
    "\n",
    "print(x2)\n",
    "df = pd.DataFrame(x2)\n",
    "df\n",
    "av = df.mean(axis =1)\n",
    "av.sort_values()\n",
    "print(av)\n",
    "av = av.to_dict()\n",
    "\n",
    "x2= list(av.values())\n",
    "x2.sort(reverse=True)\n",
    "print(x2)"
   ]
  },
  {
   "cell_type": "code",
   "execution_count": 1121,
   "metadata": {},
   "outputs": [
    {
     "name": "stdout",
     "output_type": "stream",
     "text": [
      "starting simulation\n",
      "[[18.0, 17.4, 16.8, 17.0, 17.0, 16.6, 16.6, 16.400000000000002, 16.2, 16.2], [15.0, 15.4, 15.2, 14.6, 14.799999999999999, 14.399999999999999, 14.799999999999999, 14.799999999999999, 14.799999999999999, 15.0], [19.0, 19.0, 19.2, 19.400000000000002], [19.2, 19.0, 18.4, 18.4, 18.2, 18.0, 18.0, 17.8, 17.8, 17.8], [16.8, 17.0, 17.2, 17.0, 17.0, 16.6, 16.8, 16.6, 16.6, 16.6], [17.599999999999998, 17.599999999999998, 17.2, 16.6, 16.6, 17.0, 17.2, 17.4, 17.4, 17.4], [17.2, 16.0, 16.0, 16.6, 17.0, 17.0, 17.0, 17.2, 17.2, 17.2], [17.4, 17.599999999999998, 16.6, 16.8, 17.0, 17.2, 17.2, 17.0, 17.0, 17.0], [19.2, 19.2, 19.400000000000002], [18.4, 18.0, 17.599999999999998, 17.4, 17.4, 17.2, 17.2, 17.599999999999998, 17.4, 18.0], [16.400000000000002, 16.0, 15.6, 15.4, 15.8, 15.8, 16.0, 16.400000000000002, 16.6, 16.8], [17.599999999999998, 17.8, 17.8, 18.0, 18.0, 17.8, 17.8, 17.599999999999998, 17.8, 17.8]]\n",
      "0     16.820000\n",
      "1     14.880000\n",
      "2     19.150000\n",
      "3     18.260000\n",
      "4     16.820000\n",
      "5     17.200000\n",
      "6     16.840000\n",
      "7     17.080000\n",
      "8     19.266667\n",
      "9     17.620000\n",
      "10    16.080000\n",
      "11    17.800000\n",
      "dtype: float64\n",
      "[19.266666666666666, 19.150000000000002, 18.26, 17.800000000000004, 17.62, 17.2, 17.080000000000002, 16.839999999999996, 16.82, 16.82, 16.080000000000002, 14.88]\n"
     ]
    }
   ],
   "source": [
    "#For 6-timestep, 20% immunity\n",
    "x3=run_simulation(network=nx.erdos_renyi_graph,nb_agents=500,probV_init = 0.2,immPeriod = 6)\n",
    "q = x3\n",
    "print(q)\n",
    "df = pd.DataFrame(q)\n",
    "df\n",
    "av = df.mean(axis =1)\n",
    "av.sort_values()\n",
    "print(av)\n",
    "av = av.to_dict()\n",
    "\n",
    "x3= list(av.values())\n",
    "x3.sort(reverse=True)\n",
    "print(x3)\n"
   ]
  },
  {
   "cell_type": "code",
   "execution_count": null,
   "metadata": {},
   "outputs": [],
   "source": []
  },
  {
   "cell_type": "code",
   "execution_count": 1122,
   "metadata": {},
   "outputs": [
    {
     "data": {
      "image/png": "[encoded data removed]",
      "text/plain": [
       "<Figure size 432x288 with 1 Axes>"
      ]
     },
     "metadata": {
      "needs_background": "light"
     },
     "output_type": "display_data"
    }
   ],
   "source": [
    "plt.title(\"Erdos-Renyi Network, Random Vaccination\")\n",
    "plt.xlabel(\"Probability of Infection\")\n",
    "plt.ylabel(\"Percentage of never infected agents\")\n",
    "plt.xscale(\"log\")\n",
    "x1.sort(reverse=True)\n",
    "x2.sort(reverse=True)\n",
    "x3.sort(reverse=True)\n",
    "plt.plot(np.logspace(-3,0,12),x1,label = \"control\",color = \"red\",marker='D')\n",
    "plt.plot(np.logspace(-3,0,12),x2,label = \"3-timestep, 40% immunity\",color = \"c\",marker='D')\n",
    "plt.plot(np.logspace(-3,0,12),x3,label = \"6-timestep, 20% immunity\",color = \"blue\",marker='D')\n",
    "plt.legend()\n",
    "plt.show()"
   ]
  },
  {
   "cell_type": "code",
   "execution_count": 1123,
   "metadata": {},
   "outputs": [
    {
     "name": "stdout",
     "output_type": "stream",
     "text": [
      "starting simulation\n",
      "[[16.6, 18.2, 18.0, 17.8, 17.4, 17.8, 18.0, 18.0, 18.0, 18.2], [17.4, 17.8, 17.599999999999998, 18.0, 18.0, 17.8, 18.0, 18.2, 18.2, 18.2], [17.599999999999998, 17.2, 16.8, 16.400000000000002, 15.8, 15.6, 15.2, 15.0, 15.2, 15.8], [18.6, 17.8, 17.8, 17.599999999999998, 17.8, 17.8, 17.8, 17.599999999999998, 17.8, 17.8], [17.0, 17.4, 17.8, 17.8, 17.8, 17.8, 17.8, 17.599999999999998, 17.599999999999998, 17.599999999999998], [17.2, 16.6, 16.8, 16.400000000000002, 16.0, 16.400000000000002, 16.400000000000002, 15.8, 15.8, 15.6], [18.4, 18.0, 18.0, 17.4, 17.2, 17.599999999999998, 17.599999999999998, 17.599999999999998, 17.4, 17.599999999999998], [17.4, 17.599999999999998, 17.8, 17.4, 17.599999999999998, 17.8, 18.0, 18.2, 18.2, 18.0], [17.8, 18.0, 17.8, 18.2, 18.2, 18.2, 18.4, 18.4], [18.4, 18.0, 17.4, 17.4, 17.2, 17.4, 18.4], [16.400000000000002, 15.6, 15.4, 15.2, 14.799999999999999, 15.0, 15.2, 15.8, 15.8, 16.2], [17.599999999999998, 17.2, 16.8, 17.2, 17.599999999999998, 17.599999999999998, 17.4, 17.2, 17.599999999999998, 17.4]]\n",
      "0     17.800000\n",
      "1     17.920000\n",
      "2     16.060000\n",
      "3     17.840000\n",
      "4     17.620000\n",
      "5     16.300000\n",
      "6     17.680000\n",
      "7     17.800000\n",
      "8     18.125000\n",
      "9     17.742857\n",
      "10    15.540000\n",
      "11    17.360000\n",
      "dtype: float64\n",
      "[18.125, 17.919999999999995, 17.84, 17.8, 17.799999999999997, 17.74285714285714, 17.68, 17.619999999999997, 17.359999999999996, 16.300000000000004, 16.06, 15.539999999999997]\n"
     ]
    }
   ],
   "source": [
    "q=run_simulation(network=nx.barabasi_albert_graph,nb_agents=500,probV_init = 0)\n",
    "print(q)\n",
    "df = pd.DataFrame(q)\n",
    "df\n",
    "av = df.mean(axis =1)\n",
    "av.sort_values()\n",
    "print(av)\n",
    "av = av.to_dict()\n",
    "\n",
    "x1= list(av.values())\n",
    "x1.sort(reverse=True)\n",
    "print(x1)\n"
   ]
  },
  {
   "cell_type": "code",
   "execution_count": 1124,
   "metadata": {},
   "outputs": [
    {
     "name": "stdout",
     "output_type": "stream",
     "text": [
      "starting simulation\n",
      "[[18.4, 17.8, 17.8, 17.8, 17.599999999999998, 17.599999999999998, 18.0, 18.0, 18.0], [16.400000000000002, 15.8, 15.4, 15.6, 15.4, 15.6, 15.4, 14.799999999999999, 15.0, 14.799999999999999], [17.599999999999998, 17.2, 17.8, 17.4, 18.0, 17.4, 17.4, 17.599999999999998, 17.4, 17.4], [16.6, 16.400000000000002, 16.6, 16.6, 16.400000000000002, 16.400000000000002, 16.400000000000002, 16.6], [17.4, 17.4, 17.2, 16.8, 16.6, 17.0, 17.0, 17.0, 16.8, 17.0], [17.2, 17.0, 17.2, 17.2, 17.0, 16.6, 16.8, 17.0, 17.0, 17.2], [17.8, 17.8, 17.8, 17.599999999999998, 17.4, 17.2, 17.0, 17.0, 17.8, 17.8], [17.4, 17.4, 17.8, 17.8, 17.8, 17.8, 17.8, 17.8], [17.8, 17.2, 16.400000000000002, 17.0, 16.8, 17.0, 17.0, 17.0, 17.0], [17.4, 17.0, 16.8, 16.8, 16.8, 17.0, 16.8, 16.8, 17.0, 16.8], [17.599999999999998, 17.0, 16.8, 16.8, 16.400000000000002, 17.2, 17.0, 17.2, 17.0, 17.0], [18.6, 18.8, 19.400000000000002, 19.2, 19.2, 19.0, 19.0, 19.0, 19.0, 19.2]]\n",
      "0     17.888889\n",
      "1     15.420000\n",
      "2     17.520000\n",
      "3     16.500000\n",
      "4     17.020000\n",
      "5     17.020000\n",
      "6     17.520000\n",
      "7     17.700000\n",
      "8     17.022222\n",
      "9     16.920000\n",
      "10    17.000000\n",
      "11    19.040000\n",
      "dtype: float64\n",
      "[19.04, 17.88888888888889, 17.7, 17.520000000000003, 17.520000000000003, 17.022222222222222, 17.020000000000003, 17.02, 17.0, 16.92, 16.500000000000004, 15.420000000000002]\n"
     ]
    }
   ],
   "source": [
    "x2=run_simulation(network=nx.barabasi_albert_graph,nb_agents=500,probV_init = 0.4)\n",
    "\n",
    "print(x2)\n",
    "df = pd.DataFrame(x2)\n",
    "df\n",
    "av = df.mean(axis =1)\n",
    "av.sort_values()\n",
    "print(av)\n",
    "av = av.to_dict()\n",
    "\n",
    "x2= list(av.values())\n",
    "x2.sort(reverse=True)\n",
    "print(x2)"
   ]
  },
  {
   "cell_type": "code",
   "execution_count": 1125,
   "metadata": {},
   "outputs": [
    {
     "name": "stdout",
     "output_type": "stream",
     "text": [
      "starting simulation\n",
      "[[17.599999999999998, 17.599999999999998, 17.599999999999998, 17.2, 16.8, 17.2, 17.599999999999998, 17.599999999999998, 17.8, 17.599999999999998], [16.400000000000002, 16.8, 17.0, 17.2, 17.2, 17.2, 17.0, 17.0, 16.6, 16.400000000000002], [17.4, 17.0, 16.6, 15.8, 15.4, 15.2, 15.8, 16.6, 16.6, 16.400000000000002], [17.0, 16.6, 16.400000000000002, 16.400000000000002, 16.400000000000002, 17.0, 17.0, 17.0, 17.0, 17.0], [17.2, 17.0, 16.8, 17.2, 17.4, 17.599999999999998, 17.599999999999998, 17.599999999999998, 17.4, 17.2], [17.4, 16.6, 17.4, 17.2, 17.2, 17.599999999999998, 17.8, 17.8, 17.8], [18.4, 17.4, 18.0, 18.0, 17.599999999999998, 17.2, 17.0, 17.4, 17.4, 17.599999999999998], [18.0, 18.0, 17.8, 17.2, 17.2, 17.2, 17.4, 17.4, 17.0, 17.0], [18.6, 18.4, 18.0, 18.4, 18.4], [18.0, 18.2, 18.6, 18.6, 18.6, 18.6, 18.6, 18.6], [17.8, 17.8, 17.8, 18.0, 18.2, 18.0, 18.0, 17.599999999999998, 17.599999999999998, 17.599999999999998], [18.6, 18.2, 18.0, 18.0, 18.6, 19.0, 18.8, 18.8, 18.8, 18.8]]\n",
      "0     17.460000\n",
      "1     16.880000\n",
      "2     16.280000\n",
      "3     16.780000\n",
      "4     17.300000\n",
      "5     17.422222\n",
      "6     17.600000\n",
      "7     17.420000\n",
      "8     18.360000\n",
      "9     18.475000\n",
      "10    17.840000\n",
      "11    18.560000\n",
      "dtype: float64\n",
      "[18.560000000000006, 18.474999999999998, 18.360000000000003, 17.84, 17.6, 17.46, 17.422222222222224, 17.42, 17.299999999999997, 16.880000000000003, 16.78, 16.28]\n"
     ]
    }
   ],
   "source": [
    "x3=run_simulation(network=nx.barabasi_albert_graph,nb_agents=500,probV_init = 0.2,immPeriod = 6)\n",
    "q = x3\n",
    "print(q)\n",
    "df = pd.DataFrame(q)\n",
    "df\n",
    "av = df.mean(axis =1)\n",
    "av.sort_values()\n",
    "print(av)\n",
    "av = av.to_dict()\n",
    "\n",
    "x3= list(av.values())\n",
    "x3.sort(reverse=True)\n",
    "print(x3)"
   ]
  },
  {
   "cell_type": "code",
   "execution_count": 1126,
   "metadata": {},
   "outputs": [
    {
     "data": {
      "image/png": "[encoded data removed]",
      "text/plain": [
       "<Figure size 432x288 with 1 Axes>"
      ]
     },
     "metadata": {
      "needs_background": "light"
     },
     "output_type": "display_data"
    }
   ],
   "source": [
    "plt.title(\"Barabasi-AlbertNetwork, RandomVaccination\")\n",
    "plt.xlabel(\"Probability of Infection\")\n",
    "plt.ylabel(\"Percentage of never infected agents\")\n",
    "plt.xscale(\"log\")\n",
    "x1.sort(reverse=True)\n",
    "x2.sort(reverse=True)\n",
    "x3.sort(reverse=True)\n",
    "plt.plot(np.logspace(-3,0,12),x1,label = \"control\",color = \"red\",marker='D')\n",
    "plt.plot(np.logspace(-3,0,12),x2,label = \"3-timestep, 40% immunity\",color = \"c\",marker='D')\n",
    "plt.plot(np.logspace(-3,0,12),x3,label = \"6-timestep, 20% immunity\",color = \"blue\",marker='D')\n",
    "plt.legend()\n",
    "plt.show()"
   ]
  },
  {
   "cell_type": "markdown",
   "metadata": {},
   "source": []
  },
  {
   "cell_type": "code",
   "execution_count": 1127,
   "metadata": {},
   "outputs": [
    {
     "name": "stdout",
     "output_type": "stream",
     "text": [
      "starting simulation\n",
      "[[15.8, 15.8, 15.8, 15.0, 15.0, 15.0, 14.799999999999999, 15.0, 15.0, 15.4], [17.599999999999998, 17.2, 17.8, 18.4, 18.8, 18.8, 18.8, 18.8, 18.8, 18.6], [16.8, 16.6, 15.6, 15.6, 16.2, 16.400000000000002, 16.400000000000002, 16.2, 16.2, 15.6], [17.599999999999998, 17.2, 16.8, 16.6, 16.400000000000002, 17.0, 16.8, 17.2, 17.2, 17.4], [18.0, 17.8, 17.8, 17.8, 17.599999999999998, 17.8, 18.0, 17.8, 17.8, 17.8], [16.400000000000002, 16.0, 16.2, 15.6, 16.400000000000002, 16.6, 16.8], [16.8, 17.2, 16.8, 16.6, 16.0, 16.400000000000002, 16.400000000000002, 16.400000000000002, 16.400000000000002, 16.400000000000002], [17.4, 16.6, 17.2, 16.8, 16.6, 16.8, 17.0, 17.0, 17.0, 17.0], [17.2, 17.2, 16.6, 16.400000000000002, 16.8, 17.0, 17.2, 17.4, 17.2, 17.4], [17.0, 16.6, 15.8, 15.6, 15.8, 16.0, 16.8, 16.8, 16.8, 17.0], [18.6, 18.8, 18.8], [17.2, 16.8, 17.0, 17.2, 17.0, 17.0, 17.0, 17.2, 17.2, 17.2]]\n",
      "0     15.260000\n",
      "1     18.360000\n",
      "2     16.160000\n",
      "3     17.020000\n",
      "4     17.820000\n",
      "5     16.285714\n",
      "6     16.540000\n",
      "7     16.940000\n",
      "8     17.040000\n",
      "9     16.420000\n",
      "10    18.733333\n",
      "11    17.080000\n",
      "dtype: float64\n",
      "[18.733333333333334, 18.36, 17.82, 17.08, 17.04, 17.02, 16.939999999999998, 16.540000000000003, 16.42, 16.28571428571429, 16.16, 15.26]\n"
     ]
    }
   ],
   "source": [
    "q=run_simulation(network=nx.barabasi_albert_graph,nb_agents=500,probV_init = 0,vRandom=False)\n",
    "print(q)\n",
    "df = pd.DataFrame(q)\n",
    "df\n",
    "av = df.mean(axis =1)\n",
    "av.sort_values()\n",
    "print(av)\n",
    "av = av.to_dict()\n",
    "\n",
    "x1= list(av.values())\n",
    "x1.sort(reverse=True)\n",
    "print(x1)\n"
   ]
  },
  {
   "cell_type": "code",
   "execution_count": 1128,
   "metadata": {},
   "outputs": [
    {
     "name": "stdout",
     "output_type": "stream",
     "text": [
      "starting simulation\n",
      "[[17.0, 17.8, 17.599999999999998, 17.4, 17.4, 17.599999999999998, 17.599999999999998, 17.599999999999998], [18.0, 17.0, 16.8, 16.2, 16.8, 17.0, 17.0, 17.0, 17.0, 17.2], [17.8, 17.8, 17.2, 16.6, 16.400000000000002, 16.400000000000002, 17.0, 17.0, 16.6, 16.400000000000002], [16.0, 15.2, 15.2, 16.2, 15.6, 15.8, 15.8, 15.2, 15.2, 15.4], [17.4, 16.8, 16.6, 16.400000000000002, 16.400000000000002, 16.6, 16.8, 17.0, 17.0, 17.0], [18.2, 17.599999999999998, 17.0, 17.0, 17.599999999999998, 17.4, 17.2, 17.0, 16.8, 16.2], [17.0, 17.4, 17.4, 17.2, 16.8, 17.4, 17.599999999999998, 17.8], [18.0, 17.599999999999998, 17.599999999999998, 16.8, 17.4, 17.8, 18.0, 18.2], [17.4, 17.2, 17.0, 16.6, 16.8, 17.599999999999998, 17.8], [17.8, 18.0, 18.4, 18.4, 18.4, 18.4, 18.2, 18.4], [17.8, 17.8, 17.8, 18.0, 18.2, 18.2, 18.2, 18.2, 18.2, 18.2], [17.8, 17.599999999999998, 17.4, 17.4, 17.4, 17.4, 17.0, 16.8, 17.2, 17.4]]\n",
      "0     17.500\n",
      "1     17.000\n",
      "2     16.920\n",
      "3     15.560\n",
      "4     16.800\n",
      "5     17.200\n",
      "6     17.325\n",
      "7     17.675\n",
      "8     17.200\n",
      "9     18.250\n",
      "10    18.060\n",
      "11    17.340\n",
      "dtype: float64\n",
      "[18.25, 18.06, 17.674999999999997, 17.499999999999996, 17.34, 17.325, 17.2, 17.199999999999996, 17.0, 16.92, 16.8, 15.559999999999999]\n"
     ]
    }
   ],
   "source": [
    "x2=run_simulation(network=nx.barabasi_albert_graph,nb_agents=500,probV_init = 0.4,vRandom=False)\n",
    "\n",
    "print(x2)\n",
    "df = pd.DataFrame(x2)\n",
    "df\n",
    "av = df.mean(axis =1)\n",
    "av.sort_values()\n",
    "print(av)\n",
    "av = av.to_dict()\n",
    "\n",
    "x2= list(av.values())\n",
    "x2.sort(reverse=True)\n",
    "print(x2)"
   ]
  },
  {
   "cell_type": "code",
   "execution_count": 1129,
   "metadata": {},
   "outputs": [
    {
     "name": "stdout",
     "output_type": "stream",
     "text": [
      "starting simulation\n",
      "[[18.2, 18.4, 18.2, 18.0, 17.599999999999998, 18.0, 17.8, 18.0, 18.0], [17.0, 16.8, 16.400000000000002, 16.400000000000002, 16.400000000000002, 16.6, 16.6, 16.6, 16.6, 16.400000000000002], [17.0, 17.4, 17.8, 17.4, 17.4, 17.599999999999998, 17.2, 17.4, 17.4, 17.599999999999998], [16.2, 15.4, 15.4, 15.0, 15.8, 15.8, 15.8, 16.0, 15.8, 15.8], [16.6, 16.2, 15.2, 15.8, 16.0, 16.2, 16.0, 15.6, 15.6, 15.4], [17.599999999999998, 17.599999999999998, 17.599999999999998, 17.8, 18.2, 18.4, 18.4, 18.4, 18.4, 18.2], [15.4, 15.6, 16.2, 16.6, 16.8, 17.0, 17.0, 17.0, 17.0], [19.2, 19.2, 19.2, 19.0, 19.400000000000002], [19.0, 19.2, 19.0, 19.0, 19.0, 19.2, 19.2, 19.400000000000002], [18.0, 17.599999999999998, 17.4, 16.400000000000002, 16.6, 17.2, 17.2, 17.599999999999998, 17.4, 17.4], [18.0, 18.4, 18.6, 18.4, 18.6, 18.6, 18.4, 18.4, 18.4, 18.4], [18.4, 18.4, 18.0, 17.8, 18.0, 18.2]]\n",
      "0     18.022222\n",
      "1     16.580000\n",
      "2     17.420000\n",
      "3     15.700000\n",
      "4     15.860000\n",
      "5     18.060000\n",
      "6     16.511111\n",
      "7     19.200000\n",
      "8     19.125000\n",
      "9     17.280000\n",
      "10    18.420000\n",
      "11    18.133333\n",
      "dtype: float64\n",
      "[19.2, 19.125, 18.42, 18.133333333333333, 18.06, 18.022222222222222, 17.419999999999998, 17.28, 16.580000000000002, 16.511111111111113, 15.86, 15.7]\n"
     ]
    }
   ],
   "source": [
    "x3=run_simulation(network=nx.barabasi_albert_graph,nb_agents=500,probV_init = 0.2,immPeriod = 6,vRandom=False)\n",
    "q = x3\n",
    "print(q)\n",
    "df = pd.DataFrame(q)\n",
    "df\n",
    "av = df.mean(axis =1)\n",
    "av.sort_values()\n",
    "print(av)\n",
    "av = av.to_dict()\n",
    "\n",
    "x3= list(av.values())\n",
    "x3.sort(reverse=True)\n",
    "print(x3)"
   ]
  },
  {
   "cell_type": "code",
   "execution_count": 1130,
   "metadata": {},
   "outputs": [
    {
     "data": {
      "image/png": "[encoded data removed]",
      "text/plain": [
       "<Figure size 432x288 with 1 Axes>"
      ]
     },
     "metadata": {
      "needs_background": "light"
     },
     "output_type": "display_data"
    }
   ],
   "source": [
    "plt.title(\"Barabasi-Albert Network,Targeted Vaccination\")\n",
    "plt.xlabel(\"Probability of Infection\")\n",
    "plt.ylabel(\"Percentage of never infected agents\")\n",
    "plt.xscale(\"log\")\n",
    "x1.sort(reverse=True)\n",
    "x2.sort(reverse=True)\n",
    "x3.sort(reverse=True)\n",
    "plt.plot(np.logspace(-3,0,12),x1,label = \"control\",color = \"red\",marker='D')\n",
    "plt.plot(np.logspace(-3,0,12),x2,label = \"3-timestep, 40% immunity\",color = \"c\",marker='D')\n",
    "plt.plot(np.logspace(-3,0,12),x3,label = \"6-timestep, 20% immunity\",color = \"blue\",marker='D')\n",
    "plt.legend()\n",
    "plt.show()"
   ]
  },
  {
   "attachments": {},
   "cell_type": "markdown",
   "metadata": {},
   "source": [
    "the reason the third grpah is different is because it shows a more significant effect that the 6-timestep than the other graphs. That model aims to test whether a targeted vaccination apporach is better than a random approch. By removing the amount of randomness the targeted vaccination approch using the top vaccine comes out on top.  "
   ]
  }
 ],
 "metadata": {
  "kernelspec": {
   "display_name": "Python 3 (ipykernel)",
   "language": "python",
   "name": "python3"
  },
  "language_info": {
   "codemirror_mode": {
    "name": "ipython",
    "version": 3
   },
   "file_extension": ".py",
   "mimetype": "text/x-python",
   "name": "python",
   "nbconvert_exporter": "python",
   "pygments_lexer": "ipython3",
   "version": "3.9.7"
  }
 },
 "nbformat": 4,
 "nbformat_minor": 2
}
