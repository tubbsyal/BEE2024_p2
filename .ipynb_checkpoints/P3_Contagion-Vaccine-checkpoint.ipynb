{
 "cells": [
  {
   "cell_type": "markdown",
   "metadata": {},
   "source": [
    "This document is adapted from a lab prepared by Alex Rutherford, with permission"
   ]
  },
  {
   "cell_type": "markdown",
   "metadata": {},
   "source": [
    "link to question 1 github repository: https://github.com/tubbsyal/bee2041_p1_g.git"
   ]
  },
  {
   "cell_type": "code",
   "execution_count": 10,
   "metadata": {},
   "outputs": [],
   "source": [
    "%matplotlib inline\n",
    "import matplotlib.pyplot as plt\n",
    "import networkx as nx\n",
    "import random as rd"
   ]
  },
  {
   "cell_type": "markdown",
   "metadata": {},
   "source": [
    "# The Doctor Strikes Back"
   ]
  },
  {
   "cell_type": "markdown",
   "metadata": {},
   "source": [
    "We are now going to change the behaviour of the agents. We will add a new state where agents are immunised. When an agent recovered they will stay in the `Recovered` state but they can be infected again as if they were in the Susceptible state. We will do this by allowing `Recovered` agents to be infected by their neighbors. An agent that is immunised can never be infected. During the initialisation we will immunise a certain percent of the agents."
   ]
  },
  {
   "cell_type": "code",
   "execution_count": 11,
   "metadata": {},
   "outputs": [],
   "source": [
    "# simulation parameters\n",
    "\n",
    "nb_agents = 100\n",
    "max_iterations = 10"
   ]
  },
  {
   "cell_type": "code",
   "execution_count": 12,
   "metadata": {},
   "outputs": [],
   "source": [
    "# model parameters\n",
    "\n",
    "## infection\n",
    "\n",
    "probInfection = 0.2\n",
    "probRecovery = 0.2\n",
    "probImmunity= 0.2\n",
    "probInfectionInit = 0.1\n",
    "probImmunityInit = 0.1\n",
    "probInfectionResidual = 0.0\n",
    "\n",
    "randomInitialInfection=True\n",
    "randomInitialVaccination=False "
   ]
  },
  {
   "cell_type": "code",
   "execution_count": 13,
   "metadata": {},
   "outputs": [],
   "source": [
    "## communication structure\n",
    "\n",
    "\n",
    "# model states\n",
    "\n",
    "systemState = None\n",
    "nextSystemState = None\n",
    "\n",
    "agSusceptible = 0\n",
    "agInfected = 1\n",
    "agRecovered = 2\n",
    "agImmunised= 3"
   ]
  },
  {
   "cell_type": "code",
   "execution_count": 14,
   "metadata": {},
   "outputs": [],
   "source": [
    "# helper functions\n",
    "def test_state(n,value):\n",
    "    global systemState\n",
    "\n",
    "    return systemState.nodes[n]['state'] == value"
   ]
  },
  {
   "cell_type": "code",
   "execution_count": 1,
   "metadata": {},
   "outputs": [],
   "source": [
    "# model dynamics\n",
    "\n",
    "def init():\n",
    "    global systemState\n",
    "\n",
    "    # generate communication strucure\n",
    "    systemState = nx.grid_2d_graph(10,10)\n",
    "\n",
    "    # init agents' states\n",
    "    if randomInitialInfection:\n",
    "        # random infection\n",
    "        for a in systemState.nodes():\n",
    "            if rd.random() < probInfectionInit:\n",
    "                systemState.nodes[a]['state'] = agInfected\n",
    "                print(\"Oh no, agent\", a, \"got infected!\")\n",
    "            elif rd.random() < probImmunityInit:\n",
    "                systemState.nodes[a]['state'] = agImmunised\n",
    "                print(\"Agent\", a, \"is immunised. Such a lucky guy!\") \n",
    "            else:\n",
    "                systemState.nodes[a]['state'] = agSusceptible\n",
    "               \n",
    "    else:\n",
    "        # targetted infection\n",
    "\n",
    "        # get the measure (map node > value)\n",
    "        measure = dict(nx.degree(systemState))\n",
    "\n",
    "        # sort the nodes accordingly\n",
    "        measure = sorted(measure.items(), key=lambda x: x[1],reverse=True)\n",
    "        # retains only the nodes (discard the value)\n",
    "        measure = [ x[0] for x in measure ]\n",
    "\n",
    "        # infect the first N nodes with the highest values\n",
    "        nb_agents_to_infect = int(probInfectionInit * float(nb_agents))\n",
    "        nb_agents_to_immunise = int(probImmunityInit * float(nb_agents))\n",
    "\n",
    "\n",
    "\n",
    "        for i in range(nb_agents_to_infect):\n",
    "            systemState.nodes[measure[i]]['state']=agInfected\n",
    "        for i in range(nb_agents_to_infect,nb_agents_to_infect+nb_agents_to_immunise):\n",
    "            systemState.nodes[measure[i]]['state']=agImmunised\n",
    "        for i in range(nb_agents_to_infect+nb_agents_to_immunise,nb_agents):\n",
    "            systemState.nodes[measure[i]]['state']=agSusceptible"
   ]
  },
  {
   "cell_type": "code",
   "execution_count": 22,
   "metadata": {},
   "outputs": [],
   "source": [
    "def step():\n",
    "    global systemState\n",
    "\n",
    "    # copy current network structure and agent s'states\n",
    "    nextSystemState = systemState.copy()\n",
    "\n",
    "    # determine next agents' state\n",
    "    for a in systemState.nodes():\n",
    "        # if infected\n",
    "        if test_state(a,agInfected):\n",
    "            # first try to recover\n",
    "            if rd.random() < probRecovery:\n",
    "                nextSystemState.nodes[a]['state'] = agRecovered\n",
    "                print(\"Good news, agent\", a, \"is feeling better!\")\n",
    "            elif rd.random() < probImmunity:\n",
    "                nextSystemState.nodes[a]['state'] = agImmunised\n",
    "                print(\"Good news, agent\", a, \"is feeling better and getting Immunised!\")\n",
    "            # if not try to propagage virus\n",
    "            else:\n",
    "                for n in systemState.neighbors(a):\n",
    "                    # if recovered, try to infect (again)\n",
    "                    if test_state(n,agRecovered):\n",
    "                        if rd.random() < probInfection:\n",
    "                            nextSystemState.nodes[n]['state'] = agInfected\t\n",
    "                            print(\"Oh no, agent\", n, \"got infected AGAIN!\")\n",
    "                    # otherwise, try to infect\n",
    "                    elif test_state(n,agSusceptible):\n",
    "                        if rd.random() < probInfection:\n",
    "                            nextSystemState.nodes[n]['state'] = agInfected\t\n",
    "                            print(\"Oh no, agent\", n, \"got infected!\")\n",
    "        # residual infection\n",
    "        if test_state(a,agSusceptible) or test_state(a,agRecovered):\n",
    "            if rd.random() < probInfectionResidual:\n",
    "                if test_state(a,agRecovered):\n",
    "                    print(\"Oh no, agent\", a, \"got infected AGAIN!\")\n",
    "                else:\n",
    "                    print(\"Oh no, agent\", a, \"got infected!\")\n",
    "                nextSystemState.nodes[a]['state'] = agInfected\n",
    "\n",
    "    # synchronous transition to next state\n",
    "    systemState = nextSystemState"
   ]
  },
  {
   "cell_type": "code",
   "execution_count": 23,
   "metadata": {},
   "outputs": [],
   "source": [
    "statS = []\n",
    "statI = []\n",
    "statR = []\n",
    "statM = []\n",
    "\n",
    "def collect_statistics():\n",
    "    global systemState\n",
    "\n",
    "    nbS = 0\n",
    "    nbI = 0\n",
    "    nbR = 0\n",
    "    nbM = 0\n",
    "    for a in systemState.nodes():\n",
    "        if test_state(a,agSusceptible):\n",
    "            nbS = nbS + 1\n",
    "        if test_state(a,agInfected):\n",
    "            nbI = nbI + 1\n",
    "        if test_state(a,agRecovered):\n",
    "            nbR = nbR + 1\n",
    "        if test_state(a,agImmunised):\n",
    "            nbM = nbM + 1\n",
    "    statS.append(nbS)\n",
    "    statI.append(nbI)\n",
    "    statR.append(nbR)\n",
    "    statM.append(nbM)\n",
    "    return nbS, nbI, nbR, nbM"
   ]
  },
  {
   "cell_type": "code",
   "execution_count": 24,
   "metadata": {},
   "outputs": [],
   "source": [
    "def display_statistics():\n",
    "    plt.plot(statS,label=\"S\", color=\"b\")\n",
    "    plt.plot(statI,label=\"I\", color=\"r\")\n",
    "    plt.plot(statR,label=\"R\", color=\"g\")\n",
    "    plt.plot(statM,label=\"M\", color=\"y\")\n",
    "\n",
    "    plt.legend()\n",
    "    plt.show()"
   ]
  },
  {
   "cell_type": "code",
   "execution_count": 25,
   "metadata": {},
   "outputs": [],
   "source": [
    "def draw():\n",
    "    global systemState\n",
    "\n",
    "    list_colors = []\n",
    "    for a in systemState.nodes():\n",
    "        if test_state(a,agSusceptible):\n",
    "            list_colors.append(\"b\")\n",
    "        if test_state(a,agInfected):\n",
    "            list_colors.append(\"r\")\n",
    "        if test_state(a,agRecovered):\n",
    "            list_colors.append(\"g\")\n",
    "        if test_state(a,agImmunised):\n",
    "            list_colors.append(\"y\")\n",
    "\n",
    "    nx.draw(systemState, node_color = list_colors)\n",
    "    plt.show()"
   ]
  },
  {
   "cell_type": "code",
   "execution_count": 26,
   "metadata": {
    "scrolled": true
   },
   "outputs": [
    {
     "name": "stdout",
     "output_type": "stream",
     "text": [
      "starting simulation\n",
      "Oh no, agent (0, 4) got infected!\n",
      "Oh no, agent (2, 3) got infected!\n",
      "Agent (2, 5) is immunised. Such a lucky guy!\n",
      "Agent (3, 7) is immunised. Such a lucky guy!\n",
      "Agent (3, 9) is immunised. Such a lucky guy!\n",
      "Oh no, agent (4, 6) got infected!\n",
      "Agent (4, 7) is immunised. Such a lucky guy!\n",
      "Agent (6, 5) is immunised. Such a lucky guy!\n",
      "Agent (6, 7) is immunised. Such a lucky guy!\n",
      "Agent (7, 5) is immunised. Such a lucky guy!\n",
      "Oh no, agent (7, 9) got infected!\n",
      "Agent (8, 2) is immunised. Such a lucky guy!\n",
      "Agent (8, 9) is immunised. Such a lucky guy!\n",
      "Agent (9, 0) is immunised. Such a lucky guy!\n",
      "Oh no, agent (9, 1) got infected!\n",
      "Oh no, agent (9, 3) got infected!\n",
      "Oh no, agent (9, 9) got infected!\n",
      "== round 0\n",
      "Good news, agent (0, 4) is feeling better!\n",
      "Good news, agent (2, 3) is feeling better!\n",
      "Oh no, agent (3, 6) got infected!\n",
      "Oh no, agent (5, 6) got infected!\n",
      "Oh no, agent (8, 1) got infected!\n",
      "Oh no, agent (9, 2) got infected!\n",
      "Oh no, agent (8, 3) got infected!\n",
      "Oh no, agent (9, 2) got infected!\n",
      "== round 1\n",
      "Oh no, agent (2, 6) got infected!\n",
      "Good news, agent (4, 6) is feeling better and getting Immunised!\n",
      "Good news, agent (5, 6) is feeling better!\n",
      "Oh no, agent (6, 9) got infected!\n",
      "Good news, agent (8, 3) is feeling better!\n",
      "Good news, agent (9, 1) is feeling better!\n",
      "== round 2\n",
      "Oh no, agent (2, 7) got infected!\n",
      "Good news, agent (7, 9) is feeling better and getting Immunised!\n",
      "Good news, agent (8, 1) is feeling better and getting Immunised!\n",
      "== round 3\n",
      "Good news, agent (2, 6) is feeling better!\n",
      "Good news, agent (3, 6) is feeling better!\n",
      "Good news, agent (6, 9) is feeling better and getting Immunised!\n",
      "Oh no, agent (8, 3) got infected AGAIN!\n",
      "== round 4\n",
      "Oh no, agent (1, 7) got infected!\n",
      "Oh no, agent (2, 6) got infected AGAIN!\n",
      "Oh no, agent (8, 4) got infected!\n",
      "Good news, agent (9, 3) is feeling better!\n",
      "== round 5\n",
      "Good news, agent (1, 7) is feeling better and getting Immunised!\n",
      "Oh no, agent (3, 6) got infected AGAIN!\n",
      "Good news, agent (2, 7) is feeling better!\n",
      "Good news, agent (9, 9) is feeling better and getting Immunised!\n",
      "== round 6\n",
      "Oh no, agent (3, 5) got infected!\n",
      "Oh no, agent (7, 3) got infected!\n",
      "Oh no, agent (9, 3) got infected AGAIN!\n",
      "Good news, agent (8, 4) is feeling better!\n",
      "Oh no, agent (9, 1) got infected AGAIN!\n",
      "== round 7\n",
      "Oh no, agent (2, 7) got infected AGAIN!\n",
      "Good news, agent (3, 5) is feeling better and getting Immunised!\n",
      "Good news, agent (7, 3) is feeling better!\n",
      "Oh no, agent (8, 4) got infected AGAIN!\n",
      "Good news, agent (9, 1) is feeling better and getting Immunised!\n",
      "== round 8\n",
      "Good news, agent (2, 7) is feeling better!\n",
      "Good news, agent (8, 3) is feeling better!\n",
      "Good news, agent (9, 2) is feeling better!\n",
      "== round 9\n",
      "Good news, agent (2, 6) is feeling better and getting Immunised!\n",
      "Good news, agent (8, 4) is feeling better!\n",
      "Oh no, agent (8, 3) got infected AGAIN!\n",
      "Oh no, agent (9, 4) got infected!\n",
      "the end\n"
     ]
    },
    {
     "data": {
      "image/png": "[encoded data removed]",
      "text/plain": [
       "<Figure size 432x288 with 1 Axes>"
      ]
     },
     "metadata": {},
     "output_type": "display_data"
    },
    {
     "data": {
      "image/png": "[encoded data removed]",
      "text/plain": [
       "<Figure size 432x288 with 1 Axes>"
      ]
     },
     "metadata": {
      "needs_background": "light"
     },
     "output_type": "display_data"
    }
   ],
   "source": [
    "def run_simulation():\n",
    "    print(\"starting simulation\")\n",
    "    init()\n",
    "    #draw()\n",
    "    i = 0\n",
    "    while i < max_iterations:\n",
    "        print(\"== round\", i)\n",
    "        step()\n",
    "        #draw()\n",
    "        nbS, nbI, nbR, nbM = collect_statistics()\n",
    "        if nbI == 0:\n",
    "            break\n",
    "        i = i + 1\n",
    "    print(\"the end\")\n",
    "    draw()\t\n",
    "    display_statistics()\n",
    "\n",
    "if __name__ == \"__main__\":\n",
    "    run_simulation()"
   ]
  },
  {
   "cell_type": "code",
   "execution_count": null,
   "metadata": {},
   "outputs": [],
   "source": []
  },
  {
   "cell_type": "code",
   "execution_count": null,
   "metadata": {},
   "outputs": [],
   "source": []
  },
  {
   "cell_type": "code",
   "execution_count": null,
   "metadata": {},
   "outputs": [],
   "source": []
  },
  {
   "cell_type": "code",
   "execution_count": null,
   "metadata": {},
   "outputs": [],
   "source": []
  },
  {
   "cell_type": "code",
   "execution_count": null,
   "metadata": {},
   "outputs": [],
   "source": []
  }
 ],
 "metadata": {
  "kernelspec": {
   "display_name": "Python 3 (ipykernel)",
   "language": "python",
   "name": "python3"
  },
  "language_info": {
   "codemirror_mode": {
    "name": "ipython",
    "version": 3
   },
   "file_extension": ".py",
   "mimetype": "text/x-python",
   "name": "python",
   "nbconvert_exporter": "python",
   "pygments_lexer": "ipython3",
   "version": "3.9.7"
  }
 },
 "nbformat": 4,
 "nbformat_minor": 2
}
