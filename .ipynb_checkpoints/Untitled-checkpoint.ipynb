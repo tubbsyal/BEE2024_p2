{
 "cells": [
  {
   "cell_type": "markdown",
   "id": "7ca37e13",
   "metadata": {},
   "source": [
    "Question 2: "
   ]
  },
  {
   "cell_type": "markdown",
   "id": "bbde4ac8",
   "metadata": {},
   "source": [
    "github question 1:\n",
    "https://github.com/tubbsyal/BEE2024_p2.git"
   ]
  },
  {
   "cell_type": "code",
   "execution_count": null,
   "id": "1630f39d",
   "metadata": {},
   "outputs": [],
   "source": []
  }
 ],
 "metadata": {
  "kernelspec": {
   "display_name": "Python 3 (ipykernel)",
   "language": "python",
   "name": "python3"
  },
  "language_info": {
   "codemirror_mode": {
    "name": "ipython",
    "version": 3
   },
   "file_extension": ".py",
   "mimetype": "text/x-python",
   "name": "python",
   "nbconvert_exporter": "python",
   "pygments_lexer": "ipython3",
   "version": "3.9.7"
  }
 },
 "nbformat": 4,
 "nbformat_minor": 5
}
